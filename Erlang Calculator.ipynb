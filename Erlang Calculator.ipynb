{
 "cells": [
  {
   "cell_type": "code",
   "execution_count": 65,
   "metadata": {},
   "outputs": [
    {
     "name": "stdout",
     "output_type": "stream",
     "text": [
      "Number of calls here: 200\n",
      "Number of hours here: 1\n",
      "Average Handling Time in Seconds: 180\n",
      "Average Wait Time in Seconds: 20\n"
     ]
    }
   ],
   "source": [
    "calls = int(input(\"Number of calls here: \"))\n",
    "hours = int(input(\"Number of hours here: \"))\n",
    "AHT = int(input(\"Average Handling Time in Seconds: \"))\n",
    "Target_Time = int(input(\"Average Wait Time in Seconds: \"))"
   ]
  },
  {
   "cell_type": "code",
   "execution_count": 66,
   "metadata": {},
   "outputs": [
    {
     "name": "stdout",
     "output_type": "stream",
     "text": [
      "200.0\n"
     ]
    }
   ],
   "source": [
    "calls_perhours = calls / hours\n",
    "print(calls_perhours)"
   ]
  },
  {
   "cell_type": "code",
   "execution_count": 67,
   "metadata": {},
   "outputs": [
    {
     "data": {
      "text/plain": [
       "10.0"
      ]
     },
     "execution_count": 67,
     "metadata": {},
     "output_type": "execute_result"
    }
   ],
   "source": [
    "traffic_intensity = (calls_perhours * AHT)/3600\n",
    "traffic_intensity"
   ]
  },
  {
   "cell_type": "code",
   "execution_count": 68,
   "metadata": {},
   "outputs": [
    {
     "data": {
      "text/plain": [
       "11"
      ]
     },
     "execution_count": 68,
     "metadata": {},
     "output_type": "execute_result"
    }
   ],
   "source": [
    "raw_agents = int(traffic_intensity + 1)\n",
    "raw_agents"
   ]
  },
  {
   "cell_type": "code",
   "execution_count": 69,
   "metadata": {},
   "outputs": [
    {
     "name": "stdout",
     "output_type": "stream",
     "text": [
      "39916800\n"
     ]
    }
   ],
   "source": [
    "def factorial(raw_agents):\n",
    "    if raw_agents==0:\n",
    "        factorial=1\n",
    "    factorial=1\n",
    "    for i in range(1,raw_agents+1):\n",
    "        factorial*=i\n",
    "    return factorial\n",
    "print(factorial(raw_agents))"
   ]
  },
  {
   "cell_type": "code",
   "execution_count": 70,
   "metadata": {},
   "outputs": [
    {
     "name": "stdout",
     "output_type": "stream",
     "text": [
      "27557.31922398589\n"
     ]
    }
   ],
   "source": [
    "Numerator = ((traffic_intensity**raw_agents)/factorial(raw_agents))*(raw_agents/(raw_agents - traffic_intensity))\n",
    "print(Numerator)"
   ]
  },
  {
   "cell_type": "code",
   "execution_count": 71,
   "metadata": {},
   "outputs": [
    {
     "data": {
      "text/plain": [
       "10"
      ]
     },
     "execution_count": 71,
     "metadata": {},
     "output_type": "execute_result"
    }
   ],
   "source": [
    "ii = raw_agents - 1\n",
    "ii"
   ]
  },
  {
   "cell_type": "code",
   "execution_count": 72,
   "metadata": {},
   "outputs": [
    {
     "data": {
      "text/plain": [
       "3628800"
      ]
     },
     "execution_count": 72,
     "metadata": {},
     "output_type": "execute_result"
    }
   ],
   "source": [
    "factorial(ii)"
   ]
  },
  {
   "cell_type": "code",
   "execution_count": 73,
   "metadata": {},
   "outputs": [
    {
     "data": {
      "text/plain": [
       "2755.731922398589"
      ]
     },
     "execution_count": 73,
     "metadata": {},
     "output_type": "execute_result"
    }
   ],
   "source": [
    "denom = (traffic_intensity**ii)/factorial(raw_agents-1)\n",
    "denom"
   ]
  },
  {
   "cell_type": "code",
   "execution_count": 74,
   "metadata": {},
   "outputs": [
    {
     "data": {
      "text/plain": [
       "[0, 1, 2, 3, 4, 5, 6, 7, 8, 9, 10]"
      ]
     },
     "execution_count": 74,
     "metadata": {},
     "output_type": "execute_result"
    }
   ],
   "source": [
    "listed_agents = list(range(0,raw_agents))\n",
    "listed_agents"
   ]
  },
  {
   "cell_type": "code",
   "execution_count": 75,
   "metadata": {},
   "outputs": [
    {
     "name": "stdout",
     "output_type": "stream",
     "text": [
      "3628800\n"
     ]
    }
   ],
   "source": [
    "print(factorial(raw_agents-1))"
   ]
  },
  {
   "cell_type": "code",
   "execution_count": 76,
   "metadata": {},
   "outputs": [
    {
     "name": "stdout",
     "output_type": "stream",
     "text": [
      "12842.305114638448\n"
     ]
    }
   ],
   "source": [
    "def sigma(x):\n",
    "    sigma = 0\n",
    "    for i in range(0,raw_agents-1):\n",
    "        denom = (traffic_intensity**i)/factorial(i)\n",
    "        sigma = sigma + denom\n",
    "    return sigma\n",
    "print(sigma(raw_agents)+denom)\n",
    "        "
   ]
  },
  {
   "cell_type": "code",
   "execution_count": 77,
   "metadata": {},
   "outputs": [
    {
     "data": {
      "text/plain": [
       "40399.62433862434"
      ]
     },
     "execution_count": 77,
     "metadata": {},
     "output_type": "execute_result"
    }
   ],
   "source": [
    "denominator = (sigma(raw_agents)+denom) + Numerator\n",
    "denominator"
   ]
  },
  {
   "cell_type": "code",
   "execution_count": 78,
   "metadata": {},
   "outputs": [
    {
     "data": {
      "text/plain": [
       "0.6821182046893324"
      ]
     },
     "execution_count": 78,
     "metadata": {},
     "output_type": "execute_result"
    }
   ],
   "source": [
    "Probability_of_wait = Numerator/denominator\n",
    "Probability_of_wait"
   ]
  },
  {
   "cell_type": "code",
   "execution_count": 79,
   "metadata": {},
   "outputs": [
    {
     "data": {
      "text/plain": [
       "-0.1111111111111111"
      ]
     },
     "execution_count": 79,
     "metadata": {},
     "output_type": "execute_result"
    }
   ],
   "source": [
    "traffic_wait = -(raw_agents-traffic_intensity)*(Target_Time/AHT)\n",
    "traffic_wait"
   ]
  },
  {
   "cell_type": "code",
   "execution_count": 80,
   "metadata": {},
   "outputs": [],
   "source": [
    "e = 2.718281828459045"
   ]
  },
  {
   "cell_type": "code",
   "execution_count": 81,
   "metadata": {},
   "outputs": [
    {
     "data": {
      "text/plain": [
       "0.3896138117291533"
      ]
     },
     "execution_count": 81,
     "metadata": {},
     "output_type": "execute_result"
    }
   ],
   "source": [
    "service_level = 1-(Probability_of_wait*(e**traffic_wait))\n",
    "service_level"
   ]
  },
  {
   "cell_type": "code",
   "execution_count": 82,
   "metadata": {},
   "outputs": [
    {
     "name": "stdout",
     "output_type": "stream",
     "text": [
      "11\n"
     ]
    }
   ],
   "source": [
    "print(raw_agents)"
   ]
  },
  {
   "cell_type": "code",
   "execution_count": 83,
   "metadata": {},
   "outputs": [
    {
     "name": "stdout",
     "output_type": "stream",
     "text": [
      "hello\n"
     ]
    }
   ],
   "source": [
    "print(\"hello\")\n"
   ]
  },
  {
   "cell_type": "code",
   "execution_count": 84,
   "metadata": {},
   "outputs": [
    {
     "name": "stdout",
     "output_type": "stream",
     "text": [
      "I am stuck\n"
     ]
    }
   ],
   "source": [
    "print(\"I am stuck\")"
   ]
  },
  {
   "cell_type": "code",
   "execution_count": 85,
   "metadata": {},
   "outputs": [
    {
     "name": "stdout",
     "output_type": "stream",
     "text": [
      "12\n",
      "13\n",
      "14\n"
     ]
    },
    {
     "data": {
      "text/plain": [
       "0.8883500191794669"
      ]
     },
     "execution_count": 85,
     "metadata": {},
     "output_type": "execute_result"
    }
   ],
   "source": [
    "while service_level < 0.8:\n",
    "    raw_agents = raw_agents + 1\n",
    "    Numerator = ((traffic_intensity**raw_agents)/factorial(raw_agents))*(raw_agents/(raw_agents - traffic_intensity))\n",
    "    ii = raw_agents - 1\n",
    "    denom = (traffic_intensity**ii)/factorial(raw_agents-1)\n",
    "    denominator = (sigma(raw_agents)+denom) + Numerator\n",
    "    Probability_of_wait = Numerator/denominator\n",
    "    traffic_wait = -(raw_agents-traffic_intensity)*(Target_Time/AHT)\n",
    "    service_level = 1-(Probability_of_wait*(e**traffic_wait))\n",
    "    print(raw_agents)\n",
    "service_level"
   ]
  },
  {
   "cell_type": "code",
   "execution_count": 86,
   "metadata": {},
   "outputs": [
    {
     "name": "stdout",
     "output_type": "stream",
     "text": [
      "Number of agents needed is:  14\n"
     ]
    }
   ],
   "source": [
    "print(\"Number of agents needed is: \", raw_agents)"
   ]
  },
  {
   "cell_type": "code",
   "execution_count": null,
   "metadata": {},
   "outputs": [],
   "source": []
  }
 ],
 "metadata": {
  "kernelspec": {
   "display_name": "Python 3",
   "language": "python",
   "name": "python3"
  },
  "language_info": {
   "codemirror_mode": {
    "name": "ipython",
    "version": 3
   },
   "file_extension": ".py",
   "mimetype": "text/x-python",
   "name": "python",
   "nbconvert_exporter": "python",
   "pygments_lexer": "ipython3",
   "version": "3.8.5"
  }
 },
 "nbformat": 4,
 "nbformat_minor": 4
}
