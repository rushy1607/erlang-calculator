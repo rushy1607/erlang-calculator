{
 "cells": [
  {
   "cell_type": "code",
   "execution_count": 22,
   "metadata": {},
   "outputs": [
    {
     "name": "stdout",
     "output_type": "stream",
     "text": [
      "Number of calls here: 200\n",
      "Number of hours here: 1\n",
      "Average Handling Time in Seconds: 180\n",
      "Average Wait Time in Seconds: 20\n",
      "12\n",
      "13\n",
      "14\n",
      "Number of raw agents needed is:  14\n"
     ]
    }
   ],
   "source": [
    "calls = int(input(\"Number of calls here: \"))\n",
    "hours = int(input(\"Number of hours here: \"))\n",
    "AHT = int(input(\"Average Handling Time in Seconds: \"))\n",
    "Target_Time = int(input(\"Average Wait Time in Seconds: \"))\n",
    "\n",
    "calls_perhours = calls / hours\n",
    "\n",
    "traffic_intensity = (calls_perhours * AHT)/3600\n",
    "\n",
    "raw_agents = int(traffic_intensity + 1)\n",
    "\n",
    "def factorial(raw_agents):\n",
    "    if raw_agents==0:\n",
    "        factorial=1\n",
    "    factorial=1\n",
    "    for i in range(1,raw_agents+1):\n",
    "        factorial*=i\n",
    "    return factorial\n",
    "\n",
    "\n",
    "Numerator = ((traffic_intensity**raw_agents)/factorial(raw_agents))*(raw_agents/(raw_agents - traffic_intensity))\n",
    "\n",
    "\n",
    "ii = raw_agents - 1\n",
    "\n",
    "denom = (traffic_intensity**ii)/factorial(raw_agents-1)\n",
    "\n",
    "def sigma(x):\n",
    "    sigma = 0\n",
    "    for i in range(0,raw_agents-1):\n",
    "        denom = (traffic_intensity**i)/factorial(i)\n",
    "        sigma = sigma + denom\n",
    "    return sigma\n",
    "\n",
    "\n",
    "denominator = (sigma(raw_agents)+denom) + Numerator\n",
    "\n",
    "Probability_of_wait = Numerator/denominator\n",
    "\n",
    "traffic_wait = -(raw_agents-traffic_intensity)*(Target_Time/AHT)\n",
    "\n",
    "e = 2.718281828459045\n",
    "\n",
    "service_level = 1-(Probability_of_wait*(e**traffic_wait))\n",
    "\n",
    "\n",
    "while service_level < 0.8:\n",
    "    raw_agents = raw_agents + 1\n",
    "    Numerator = ((traffic_intensity**raw_agents)/factorial(raw_agents))*(raw_agents/(raw_agents - traffic_intensity))\n",
    "    ii = raw_agents - 1\n",
    "    denom = (traffic_intensity**ii)/factorial(raw_agents-1)\n",
    "    denominator = (sigma(raw_agents)+denom) + Numerator\n",
    "    Probability_of_wait = Numerator/denominator\n",
    "    traffic_wait = -(raw_agents-traffic_intensity)*(Target_Time/AHT)\n",
    "    service_level = 1-(Probability_of_wait*(e**traffic_wait))\n",
    "    print(raw_agents)\n",
    "service_level\n",
    "print(\"Number of raw agents needed is: \", raw_agents)"
   ]
  },
  {
   "cell_type": "code",
   "execution_count": null,
   "metadata": {},
   "outputs": [],
   "source": []
  }
 ],
 "metadata": {
  "kernelspec": {
   "display_name": "Python 3",
   "language": "python",
   "name": "python3"
  },
  "language_info": {
   "codemirror_mode": {
    "name": "ipython",
    "version": 3
   },
   "file_extension": ".py",
   "mimetype": "text/x-python",
   "name": "python",
   "nbconvert_exporter": "python",
   "pygments_lexer": "ipython3",
   "version": "3.8.5"
  }
 },
 "nbformat": 4,
 "nbformat_minor": 4
}
